{
 "cells": [
  {
   "cell_type": "markdown",
   "id": "c7946581",
   "metadata": {},
   "source": [
    "# Yantra A.I."
   ]
  },
  {
   "cell_type": "code",
   "execution_count": 11,
   "id": "7fa4f9e6",
   "metadata": {},
   "outputs": [],
   "source": [
    "import os\n",
    "import datetime\n",
    "import subprocess\n",
    "import webbrowser\n",
    "import urllib.parse\n",
    "import pyttsx3\n",
    "import pandas as pd\n",
    "import numpy as np\n",
    "import api_func\n",
    "import speech_recognition as sr"
   ]
  },
  {
   "cell_type": "markdown",
   "id": "3cb500ff",
   "metadata": {},
   "source": [
    "### Convert text to speech"
   ]
  },
  {
   "cell_type": "code",
   "execution_count": 12,
   "id": "7adca077",
   "metadata": {},
   "outputs": [],
   "source": [
    "# Create an instance of the Text-to-Speech engine\n",
    "engine = pyttsx3.init()\n",
    "\n",
    "# Set the properties of the speech output\n",
    "engine.setProperty(\"rate\", 225)  # Speech speed (words per minute)\n",
    "engine.setProperty(\"voice\", \"HKEY_LOCAL_MACHINE\\SOFTWARE\\Microsoft\\Speech\\Voices\\Tokens\\TTS_MS_EN-US_ZIRA_11.0\")\n",
    "\n",
    "def say(text):\n",
    "    engine.say(text)\n",
    "    engine.runAndWait()"
   ]
  },
  {
   "cell_type": "markdown",
   "id": "cff0b7cd",
   "metadata": {},
   "source": [
    "### Initialise the microphone"
   ]
  },
  {
   "cell_type": "code",
   "execution_count": 13,
   "id": "a78a0b77",
   "metadata": {},
   "outputs": [
    {
     "name": "stdout",
     "output_type": "stream",
     "text": [
      "Calibrating microphone... Please wait.\n",
      "Calibration complete.\n"
     ]
    }
   ],
   "source": [
    "r = sr.Recognizer()\n",
    "sr.Microphone(device_index=0)\n",
    "\n",
    "# Adjust the energy threshold dynamically based on the ambient noise level\n",
    "with sr.Microphone() as source:\n",
    "    print(\"Calibrating microphone... Please wait.\")\n",
    "    r.adjust_for_ambient_noise(source)\n",
    "    print(\"Calibration complete.\")\n",
    "\n",
    "# Set the desired energy threshold level\n",
    "energy_threshold = r.energy_threshold * 1.5  # Increase the threshold by a factor (e.g., 1.5)\n",
    "\n",
    "# Set the energy threshold for speech recognition\n",
    "r.energy_threshold = energy_threshold"
   ]
  },
  {
   "cell_type": "markdown",
   "id": "6e29e106",
   "metadata": {},
   "source": [
    "### Understanding Speech said on the microphone"
   ]
  },
  {
   "cell_type": "code",
   "execution_count": 14,
   "id": "42ab29eb",
   "metadata": {},
   "outputs": [],
   "source": [
    "def hear():\n",
    "    with sr.Microphone() as source:\n",
    "        r.pause_threshold = 1     # seconds of pause after which the phrase is considered completed.\n",
    "        audio = r.listen(source)\n",
    "\n",
    "        try:\n",
    "            heard = r.recognize_google(audio)\n",
    "            print(\"You said:\", heard)\n",
    "        \n",
    "        except sr.UnknownValueError:\n",
    "            heard = \"Sorry, I could not understand your speech.\"\n",
    "            print(heard)\n",
    "\n",
    "        except sr.RequestError as e:\n",
    "            heard = \"Speech recognition request error:\"\n",
    "            print(heard, str(e))\n",
    "            \n",
    "        return heard"
   ]
  },
  {
   "cell_type": "markdown",
   "id": "b9248a3d",
   "metadata": {},
   "source": [
    "### Manipulating the csv database"
   ]
  },
  {
   "cell_type": "code",
   "execution_count": 15,
   "id": "9a3db3f2",
   "metadata": {},
   "outputs": [],
   "source": [
    "sites = pd.read_csv('sites.csv')"
   ]
  },
  {
   "cell_type": "code",
   "execution_count": 16,
   "id": "5642d4f1",
   "metadata": {},
   "outputs": [],
   "source": [
    "# sites.loc[0,'name'] = \"google\"\n",
    "# sites.loc[0,'web'] = \"https://google.com/\"\n",
    "# sites.loc[1,'name'] = \"youtube\"\n",
    "# sites.loc[1,'web'] = \"https://youtube.com/\"\n",
    "# sites.loc[2,'name'] = \"wikipedia\"\n",
    "# sites.loc[2,'web'] = \"https://wikipedia.com/\"\n",
    "# sites.loc[3,'name'] = \"chat gpt\"\n",
    "# sites.loc[3,'web'] = \"https://chat.openai.com/\"\n",
    "# sites.loc[4,'name'] = \"moodle\"\n",
    "# sites.loc[4,'web'] = \"https://coursesnew.iitm.ac.in/login/index.php\"\n",
    "# sites.loc[5,'name'] = \"word\"\n",
    "# sites.loc[5,'web'] = r\"C:\\Program Files\\Microsoft Office\\root\\Office16\\WINWORD.EXE\"\n",
    "# sites.loc[6,'name'] = \"excel\"\n",
    "# sites.loc[6,'web'] = r\"C:\\Program Files\\Microsoft Office\\root\\Office16\\EXCEL.EXE\"\n",
    "# sites.loc[7,'name'] = \"powerpoint\"\n",
    "# sites.loc[7,'web'] = r\"C:\\Program Files\\Microsoft Office\\root\\Office16\\POWERPNT.EXE\"\n",
    "# sites.loc[8,'name'] = \"onenote\"\n",
    "# sites.loc[8,'web'] = r\"C:\\Program Files\\Microsoft Office\\root\\Office16\\ONENOTE.EXE\"\n",
    "# sites.loc[9,'name'] = \"brave\"\n",
    "# sites.loc[9,'web'] = r\"C:\\Program Files\\BraveSoftware\\Brave-Browser\\Application\\brave.exe\"\n",
    "# sites.loc[10,'name'] = \"chrome\"\n",
    "# sites.loc[10,'web'] = r\"C:\\Program Files\\Google\\Chrome\\Application\\chrome.exe\"\n",
    "# sites.loc[11,'name'] = \"edge\"\n",
    "# sites.loc[11,'web'] = r\"C:\\Program Files (x86)\\Microsoft\\Edge\\Application\\msedge.exe\"\n",
    "# sites.loc[12,'name'] = \"firefox\"\n",
    "# sites.loc[12,'web'] = r\"C:\\Program Files\\Mozilla Firefox\\firefox.exe\"\n",
    "# sites.loc[13,'name'] = \"onedrive\"\n",
    "# sites.loc[13,'web'] = r\"C:\\Program Files\\Microsoft OneDrive\\OneDrive.exe\""
   ]
  },
  {
   "cell_type": "code",
   "execution_count": 17,
   "id": "be22f841",
   "metadata": {
    "scrolled": true
   },
   "outputs": [],
   "source": [
    "sites.sort_values('name', inplace=True)\n",
    "sites.reset_index(drop=True , inplace=True)\n",
    "sites.to_csv(\"sites.csv\",index=False)"
   ]
  },
  {
   "cell_type": "markdown",
   "id": "79a97cd3",
   "metadata": {},
   "source": [
    "### Main algorithm"
   ]
  },
  {
   "cell_type": "code",
   "execution_count": 18,
   "id": "be8e4c76",
   "metadata": {},
   "outputs": [
    {
     "name": "stdout",
     "output_type": "stream",
     "text": [
      "Namaste! Yantra A.I. is at your command sir!!!\n",
      "At your Command Sir...\n",
      "You said: hay yantra are you calibrated enough\n",
      "At your Command Sir...\n",
      "You said: yantra open chart PPT\n",
      "Enter name of site below\n",
      "q\n",
      "At your Command Sir...\n",
      "You said: open chat GPT\n",
      "At your Command Sir...\n",
      "You said: can you play some music for me\n",
      "At your Command Sir...\n",
      "Speech recognition request error: recognition connection failed: [Errno 11001] getaddrinfo failed\n",
      "At your Command Sir...\n",
      "Speech recognition request error: recognition connection failed: [Errno 11001] getaddrinfo failed\n",
      "At your Command Sir...\n",
      "Speech recognition request error: recognition connection failed: [Errno 11001] getaddrinfo failed\n"
     ]
    },
    {
     "name": "stderr",
     "output_type": "stream",
     "text": [
      "Exception ignored in: <function BSTR.__del__ at 0x000002B32ACA3700>\n",
      "Traceback (most recent call last):\n",
      "  File \"c:\\users\\nikshay jain\\appdata\\local\\programs\\python\\python38\\lib\\site-packages\\comtypes\\__init__.py\", line 1043, in __del__\n",
      "    def __del__(self, _free=windll.oleaut32.SysFreeString):\n",
      "KeyboardInterrupt: \n"
     ]
    },
    {
     "name": "stdout",
     "output_type": "stream",
     "text": [
      "At your Command Sir...\n"
     ]
    },
    {
     "ename": "KeyboardInterrupt",
     "evalue": "",
     "output_type": "error",
     "traceback": [
      "\u001b[1;31m---------------------------------------------------------------------------\u001b[0m",
      "\u001b[1;31mKeyboardInterrupt\u001b[0m                         Traceback (most recent call last)",
      "Cell \u001b[1;32mIn[18], line 8\u001b[0m\n\u001b[0;32m      6\u001b[0m f\u001b[38;5;241m=\u001b[39m\u001b[38;5;241m0\u001b[39m\n\u001b[0;32m      7\u001b[0m \u001b[38;5;28mprint\u001b[39m(\u001b[38;5;124m\"\u001b[39m\u001b[38;5;124mAt your Command Sir...\u001b[39m\u001b[38;5;124m\"\u001b[39m)\n\u001b[1;32m----> 8\u001b[0m cmd \u001b[38;5;241m=\u001b[39m \u001b[43mhear\u001b[49m\u001b[43m(\u001b[49m\u001b[43m)\u001b[49m\n\u001b[0;32m     10\u001b[0m \u001b[38;5;28;01mif\u001b[39;00m \u001b[38;5;124m\"\u001b[39m\u001b[38;5;124mshutdown\u001b[39m\u001b[38;5;124m\"\u001b[39m \u001b[38;5;129;01min\u001b[39;00m cmd\u001b[38;5;241m.\u001b[39mlower() :\n\u001b[0;32m     11\u001b[0m     \u001b[38;5;28mprint\u001b[39m(\u001b[38;5;124m\"\u001b[39m\u001b[38;5;124mYantra Shutting down...\u001b[39m\u001b[38;5;124m\"\u001b[39m)\n",
      "Cell \u001b[1;32mIn[14], line 4\u001b[0m, in \u001b[0;36mhear\u001b[1;34m()\u001b[0m\n\u001b[0;32m      2\u001b[0m \u001b[38;5;28;01mwith\u001b[39;00m sr\u001b[38;5;241m.\u001b[39mMicrophone() \u001b[38;5;28;01mas\u001b[39;00m source:\n\u001b[0;32m      3\u001b[0m     r\u001b[38;5;241m.\u001b[39mpause_threshold \u001b[38;5;241m=\u001b[39m \u001b[38;5;241m1\u001b[39m     \u001b[38;5;66;03m# seconds of pause after which the phrase is considered completed.\u001b[39;00m\n\u001b[1;32m----> 4\u001b[0m     audio \u001b[38;5;241m=\u001b[39m \u001b[43mr\u001b[49m\u001b[38;5;241;43m.\u001b[39;49m\u001b[43mlisten\u001b[49m\u001b[43m(\u001b[49m\u001b[43msource\u001b[49m\u001b[43m)\u001b[49m\n\u001b[0;32m      6\u001b[0m     \u001b[38;5;28;01mtry\u001b[39;00m:\n\u001b[0;32m      7\u001b[0m         heard \u001b[38;5;241m=\u001b[39m r\u001b[38;5;241m.\u001b[39mrecognize_google(audio)\n",
      "File \u001b[1;32mc:\\users\\nikshay jain\\appdata\\local\\programs\\python\\python38\\lib\\site-packages\\speech_recognition\\__init__.py:523\u001b[0m, in \u001b[0;36mRecognizer.listen\u001b[1;34m(self, source, timeout, phrase_time_limit, snowboy_configuration)\u001b[0m\n\u001b[0;32m    520\u001b[0m \u001b[38;5;28;01mif\u001b[39;00m phrase_time_limit \u001b[38;5;129;01mand\u001b[39;00m elapsed_time \u001b[38;5;241m-\u001b[39m phrase_start_time \u001b[38;5;241m>\u001b[39m phrase_time_limit:\n\u001b[0;32m    521\u001b[0m     \u001b[38;5;28;01mbreak\u001b[39;00m\n\u001b[1;32m--> 523\u001b[0m buffer \u001b[38;5;241m=\u001b[39m \u001b[43msource\u001b[49m\u001b[38;5;241;43m.\u001b[39;49m\u001b[43mstream\u001b[49m\u001b[38;5;241;43m.\u001b[39;49m\u001b[43mread\u001b[49m\u001b[43m(\u001b[49m\u001b[43msource\u001b[49m\u001b[38;5;241;43m.\u001b[39;49m\u001b[43mCHUNK\u001b[49m\u001b[43m)\u001b[49m\n\u001b[0;32m    524\u001b[0m \u001b[38;5;28;01mif\u001b[39;00m \u001b[38;5;28mlen\u001b[39m(buffer) \u001b[38;5;241m==\u001b[39m \u001b[38;5;241m0\u001b[39m: \u001b[38;5;28;01mbreak\u001b[39;00m  \u001b[38;5;66;03m# reached end of the stream\u001b[39;00m\n\u001b[0;32m    525\u001b[0m frames\u001b[38;5;241m.\u001b[39mappend(buffer)\n",
      "File \u001b[1;32mc:\\users\\nikshay jain\\appdata\\local\\programs\\python\\python38\\lib\\site-packages\\speech_recognition\\__init__.py:199\u001b[0m, in \u001b[0;36mMicrophone.MicrophoneStream.read\u001b[1;34m(self, size)\u001b[0m\n\u001b[0;32m    198\u001b[0m \u001b[38;5;28;01mdef\u001b[39;00m \u001b[38;5;21mread\u001b[39m(\u001b[38;5;28mself\u001b[39m, size):\n\u001b[1;32m--> 199\u001b[0m     \u001b[38;5;28;01mreturn\u001b[39;00m \u001b[38;5;28;43mself\u001b[39;49m\u001b[38;5;241;43m.\u001b[39;49m\u001b[43mpyaudio_stream\u001b[49m\u001b[38;5;241;43m.\u001b[39;49m\u001b[43mread\u001b[49m\u001b[43m(\u001b[49m\u001b[43msize\u001b[49m\u001b[43m,\u001b[49m\u001b[43m \u001b[49m\u001b[43mexception_on_overflow\u001b[49m\u001b[38;5;241;43m=\u001b[39;49m\u001b[38;5;28;43;01mFalse\u001b[39;49;00m\u001b[43m)\u001b[49m\n",
      "File \u001b[1;32mc:\\users\\nikshay jain\\appdata\\local\\programs\\python\\python38\\lib\\site-packages\\pyaudio\\__init__.py:570\u001b[0m, in \u001b[0;36mPyAudio.Stream.read\u001b[1;34m(self, num_frames, exception_on_overflow)\u001b[0m\n\u001b[0;32m    567\u001b[0m \u001b[38;5;28;01mif\u001b[39;00m \u001b[38;5;129;01mnot\u001b[39;00m \u001b[38;5;28mself\u001b[39m\u001b[38;5;241m.\u001b[39m_is_input:\n\u001b[0;32m    568\u001b[0m     \u001b[38;5;28;01mraise\u001b[39;00m \u001b[38;5;167;01mIOError\u001b[39;00m(\u001b[38;5;124m\"\u001b[39m\u001b[38;5;124mNot input stream\u001b[39m\u001b[38;5;124m\"\u001b[39m,\n\u001b[0;32m    569\u001b[0m                   paCanNotReadFromAnOutputOnlyStream)\n\u001b[1;32m--> 570\u001b[0m \u001b[38;5;28;01mreturn\u001b[39;00m \u001b[43mpa\u001b[49m\u001b[38;5;241;43m.\u001b[39;49m\u001b[43mread_stream\u001b[49m\u001b[43m(\u001b[49m\u001b[38;5;28;43mself\u001b[39;49m\u001b[38;5;241;43m.\u001b[39;49m\u001b[43m_stream\u001b[49m\u001b[43m,\u001b[49m\u001b[43m \u001b[49m\u001b[43mnum_frames\u001b[49m\u001b[43m,\u001b[49m\n\u001b[0;32m    571\u001b[0m \u001b[43m                      \u001b[49m\u001b[43mexception_on_overflow\u001b[49m\u001b[43m)\u001b[49m\n",
      "\u001b[1;31mKeyboardInterrupt\u001b[0m: "
     ]
    }
   ],
   "source": [
    "if __name__ == \"__main__\":\n",
    "    text = \"Nuhmuhstay! Yantruh A.I. is at your command sir!!!\"\n",
    "    print(\"Namaste! Yantra A.I. is at your command sir!!!\")\n",
    "    say(text)\n",
    "    while True:\n",
    "        f=0\n",
    "        print(\"At your Command Sir...\")\n",
    "        cmd = hear()\n",
    "\n",
    "        if \"shutdown\" in cmd.lower() :\n",
    "            print(\"Yantra Shutting down...\")\n",
    "            say(\"Yantra Shutting down\")\n",
    "            break\n",
    "\n",
    "        elif \"open\" in cmd.lower():\n",
    "            for site in sites['name']:\n",
    "                if f\"Open {site}\".lower() in cmd.lower():\n",
    "                    say(f\"Opening {site} sir...\")\n",
    "                    url = sites.loc[sites['name']==site].to_numpy()[0,1]\n",
    "                    if url[0] == 'C':\n",
    "                        subprocess.Popen(url)\n",
    "                    else:\n",
    "                        webbrowser.open(url)\n",
    "                    f=1\n",
    "            if f==0:\n",
    "                say(\"Sorry, the app or site you mentioned is not in my database, please enter its name and its url below:\")\n",
    "                name = input(\"Enter name of site below\\n\")\n",
    "                if name == 'q':\n",
    "                    continue\n",
    "                web = input(\"Enter its url below\\n\")\n",
    "                sites.loc[sites.last_valid_index(),'name'] = name\n",
    "                sites.loc[sites.last_valid_index(),'web'] = web\n",
    "            f=0\n",
    "\n",
    "        elif \"play\" in cmd.lower():\n",
    "            contents = os.listdir(r\"C:\\Users\\Nikshay Jain\\OneDrive - smail.iitm.ac.in\\Music\")\n",
    "            songs = [os.path.splitext(item)[0] for item in contents]\n",
    "            for music in songs:\n",
    "                if music.lower() in cmd.lower():\n",
    "                    dir = r'C:\\Users\\Nikshay Jain\\OneDrive - smail.iitm.ac.in\\Music'\n",
    "                    file_path = os.path.join(dir, f\"{music}.mp3\")\n",
    "                    webbrowser.open(file_path)\n",
    "                    break\n",
    "\n",
    "        elif \"weather\" in cmd.lower():\n",
    "            print(\"Please tell me the name of the city you want to know the weather of:\\n\")\n",
    "            say(\"Please tell me the name of the city you want to know the weather of:\")\n",
    "            inp = hear()\n",
    "            say(api_func.weather(inp))\n",
    "\n",
    "        elif \"the time\" in cmd.lower():\n",
    "            time = datetime.datetime.now().strftime(\"%H:%M:%S\")\n",
    "            print(f\"The time currently is {time}\")\n",
    "            say(f\"Sir, the time currently is {time}\")\n",
    "\n",
    "        elif \"today's date\" in cmd.lower() or \"date today\" in cmd.lower():\n",
    "            date = datetime.date.today().strftime(\"%d/%m/%Y\")\n",
    "            print(f\"The date today is {date}\")\n",
    "            date_say = datetime.date.today().strftime(\"%B %d, %Y\")\n",
    "            say(f\"The date today is {date_say}\")\n",
    "\n",
    "        else:\n",
    "            say(cmd)"
   ]
  },
  {
   "cell_type": "markdown",
   "id": "19be32af",
   "metadata": {
    "scrolled": true
   },
   "source": [
    "### Work on webistes by webdriver package"
   ]
  },
  {
   "cell_type": "code",
   "execution_count": null,
   "id": "1c92b421",
   "metadata": {},
   "outputs": [],
   "source": []
  }
 ],
 "metadata": {
  "kernelspec": {
   "display_name": "Python 3 (ipykernel)",
   "language": "python",
   "name": "python3"
  },
  "language_info": {
   "codemirror_mode": {
    "name": "ipython",
    "version": 3
   },
   "file_extension": ".py",
   "mimetype": "text/x-python",
   "name": "python",
   "nbconvert_exporter": "python",
   "pygments_lexer": "ipython3",
   "version": "3.8.10"
  }
 },
 "nbformat": 4,
 "nbformat_minor": 5
}
