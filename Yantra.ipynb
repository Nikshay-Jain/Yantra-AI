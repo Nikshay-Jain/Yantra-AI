{
 "cells": [
  {
   "cell_type": "code",
   "execution_count": 283,
   "id": "f5ff9a35",
   "metadata": {},
   "outputs": [],
   "source": [
    "import os\n",
    "import subprocess\n",
    "import webbrowser\n",
    "import pyttsx3\n",
    "import pandas as pd\n",
    "import numpy as np\n",
    "import speech_recognition as sr"
   ]
  },
  {
   "cell_type": "code",
   "execution_count": 284,
   "id": "7adca077",
   "metadata": {},
   "outputs": [],
   "source": [
    "# Create an instance of the Text-to-Speech engine\n",
    "engine = pyttsx3.init()\n",
    "\n",
    "# Set the properties of the speech output\n",
    "engine.setProperty(\"rate\", 225)  # Speech speed (words per minute)\n",
    "engine.setProperty(\"voice\", \"HKEY_LOCAL_MACHINE\\SOFTWARE\\Microsoft\\Speech\\Voices\\Tokens\\TTS_MS_EN-US_ZIRA_11.0\")\n",
    "\n",
    "# Convert text to speech\n",
    "def say(text):\n",
    "    engine.say(text)\n",
    "    engine.runAndWait()"
   ]
  },
  {
   "cell_type": "code",
   "execution_count": 285,
   "id": "42ab29eb",
   "metadata": {},
   "outputs": [],
   "source": [
    "# Understanding Speech said on the microphone\n",
    "def hear():\n",
    "    r = sr.Recognizer()\n",
    "    with sr.Microphone() as source:\n",
    "        r.pause_threshold = 1     # seconds of pause after which the phrase is considered completed.\n",
    "        audio = r.listen(source)\n",
    "\n",
    "        try:\n",
    "            heard = r.recognize_google(audio)\n",
    "            print(\"You said:\", heard)\n",
    "        \n",
    "        except sr.UnknownValueError:\n",
    "            heard = \"Sorry, I could not understand your speech.\"\n",
    "            print(heard)\n",
    "\n",
    "        except sr.RequestError as e:\n",
    "            heard = \"Speech recognition request error:\"\n",
    "            print(heard, str(e))\n",
    "            \n",
    "        return heard"
   ]
  },
  {
   "cell_type": "code",
   "execution_count": 286,
   "id": "9a3db3f2",
   "metadata": {},
   "outputs": [],
   "source": [
    "sites = pd.read_csv('sites.csv')"
   ]
  },
  {
   "cell_type": "code",
   "execution_count": 287,
   "id": "5642d4f1",
   "metadata": {},
   "outputs": [],
   "source": [
    "sites.loc[0,'name'] = \"google\"\n",
    "sites.loc[0,'web'] = \"https://google.com/\"\n",
    "sites.loc[1,'name'] = \"youtube\"\n",
    "sites.loc[1,'web'] = \"https://youtube.com/\"\n",
    "sites.loc[2,'name'] = \"wikipedia\"\n",
    "sites.loc[2,'web'] = \"https://wikipedia.com/\"\n",
    "sites.loc[3,'name'] = \"chat gpt\"\n",
    "sites.loc[3,'web'] = \"https://chat.openai.com/\"\n",
    "sites.loc[4,'name'] = \"moodle\"\n",
    "sites.loc[4,'web'] = \"https://coursesnew.iitm.ac.in/login/index.php\""
   ]
  },
  {
   "cell_type": "code",
   "execution_count": 288,
   "id": "be22f841",
   "metadata": {
    "scrolled": true
   },
   "outputs": [
    {
     "data": {
      "text/html": [
       "<div>\n",
       "<style scoped>\n",
       "    .dataframe tbody tr th:only-of-type {\n",
       "        vertical-align: middle;\n",
       "    }\n",
       "\n",
       "    .dataframe tbody tr th {\n",
       "        vertical-align: top;\n",
       "    }\n",
       "\n",
       "    .dataframe thead th {\n",
       "        text-align: right;\n",
       "    }\n",
       "</style>\n",
       "<table border=\"1\" class=\"dataframe\">\n",
       "  <thead>\n",
       "    <tr style=\"text-align: right;\">\n",
       "      <th></th>\n",
       "      <th>name</th>\n",
       "      <th>web</th>\n",
       "    </tr>\n",
       "  </thead>\n",
       "  <tbody>\n",
       "    <tr>\n",
       "      <th>0</th>\n",
       "      <td>chat gpt</td>\n",
       "      <td>https://chat.openai.com/</td>\n",
       "    </tr>\n",
       "    <tr>\n",
       "      <th>1</th>\n",
       "      <td>google</td>\n",
       "      <td>https://google.com/</td>\n",
       "    </tr>\n",
       "    <tr>\n",
       "      <th>2</th>\n",
       "      <td>moodle</td>\n",
       "      <td>https://coursesnew.iitm.ac.in/login/index.php</td>\n",
       "    </tr>\n",
       "    <tr>\n",
       "      <th>3</th>\n",
       "      <td>wikipedia</td>\n",
       "      <td>https://wikipedia.com/</td>\n",
       "    </tr>\n",
       "    <tr>\n",
       "      <th>4</th>\n",
       "      <td>youtube</td>\n",
       "      <td>https://youtube.com/</td>\n",
       "    </tr>\n",
       "  </tbody>\n",
       "</table>\n",
       "</div>"
      ],
      "text/plain": [
       "        name                                            web\n",
       "0   chat gpt                       https://chat.openai.com/\n",
       "1     google                            https://google.com/\n",
       "2     moodle  https://coursesnew.iitm.ac.in/login/index.php\n",
       "3  wikipedia                         https://wikipedia.com/\n",
       "4    youtube                           https://youtube.com/"
      ]
     },
     "execution_count": 288,
     "metadata": {},
     "output_type": "execute_result"
    }
   ],
   "source": [
    "sites.sort_values('name', inplace=True)\n",
    "sites.reset_index(drop=True , inplace=True)\n",
    "sites"
   ]
  },
  {
   "cell_type": "code",
   "execution_count": 282,
   "id": "be8e4c76",
   "metadata": {},
   "outputs": [
    {
     "name": "stdout",
     "output_type": "stream",
     "text": [
      "VS Code\n",
      "At your Command Sir...\n",
      "You said: shutdown Yantra\n",
      "Yantra Shutting down...\n"
     ]
    }
   ],
   "source": [
    "if __name__ == \"__main__\":\n",
    "    print('VS Code')\n",
    "    text = \"Nuhmuhstay! Yantruh A.I. is at your command sir!!!\"\n",
    "    say(text)\n",
    "    #sites = [[\"google\",\"https://google.com\"],[\"youtube\",\"https://youtube.com\"],[\"wikipedia\",\"https://wikipedia.com\"],[\"chat gpt\",\"https://chat.openai.com/\"]]\n",
    "    while True:\n",
    "        print(\"At your Command Sir...\")\n",
    "        cmd = hear()\n",
    "        if \"open\" in cmd.lower():\n",
    "            for site in sites['name']:\n",
    "                if f\"Open {site}\".lower() in cmd.lower():\n",
    "                    say(f\"Opening {site} sir...\")\n",
    "                    webbrowser.open(((sites.loc[sites['name']==site]).to_numpy())[0,1])\n",
    "\n",
    "            #Work on webistes by webdriver package\n",
    "            \n",
    "        if \"play\" in cmd.lower():\n",
    "            contents = os.listdir(r\"C:\\Users\\Nikshay Jain\\OneDrive - smail.iitm.ac.in\\Music\")\n",
    "            songs = [os.path.splitext(item)[0] for item in contents]\n",
    "            for music in songs:\n",
    "                if music.lower() in cmd.lower():\n",
    "                    dir = r'C:\\Users\\Nikshay Jain\\OneDrive - smail.iitm.ac.in\\Music'\n",
    "                    file_path = os.path.join(dir, f\"{music}.mp3\")\n",
    "                    webbrowser.open(file_path)\n",
    "                    break\n",
    "        \n",
    "        elif \"shutdown yantra\" in cmd.lower():\n",
    "            print(\"Yantra Shutting down...\")\n",
    "            say(\"Yantra Shutting down\")\n",
    "            break\n",
    "        \n",
    "        else:\n",
    "            say(cmd)"
   ]
  },
  {
   "cell_type": "code",
   "execution_count": null,
   "id": "1dcc414e",
   "metadata": {},
   "outputs": [],
   "source": []
  }
 ],
 "metadata": {
  "kernelspec": {
   "display_name": "Python 3 (ipykernel)",
   "language": "python",
   "name": "python3"
  },
  "language_info": {
   "codemirror_mode": {
    "name": "ipython",
    "version": 3
   },
   "file_extension": ".py",
   "mimetype": "text/x-python",
   "name": "python",
   "nbconvert_exporter": "python",
   "pygments_lexer": "ipython3",
   "version": "3.8.10"
  }
 },
 "nbformat": 4,
 "nbformat_minor": 5
}
